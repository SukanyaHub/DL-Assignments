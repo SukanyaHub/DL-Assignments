{
  "nbformat": 4,
  "nbformat_minor": 0,
  "metadata": {
    "colab": {
      "provenance": [],
      "gpuType": "T4",
      "cell_execution_strategy": "setup"
    },
    "kernelspec": {
      "name": "python3",
      "display_name": "Python 3"
    },
    "language_info": {
      "name": "python"
    },
    "accelerator": "GPU"
  },
  "cells": [
    {
      "cell_type": "code",
      "source": [
        "import numpy as np\n",
        "import matplotlib.pyplot as plt\n",
        "from sklearn.neighbors import KNeighborsClassifier\n",
        "from keras.datasets import cifar10\n",
        "from sklearn.model_selection import train_test_split\n",
        "from sklearn.metrics import classification_report, accuracy_score\n"
      ],
      "metadata": {
        "id": "GozIbmYKdXkn"
      },
      "execution_count": 8,
      "outputs": []
    },
    {
      "cell_type": "markdown",
      "source": [
        "**PERFORMING KNN MODEL ON COLOURED DATASET**"
      ],
      "metadata": {
        "id": "TxsuKh13YdLd"
      }
    },
    {
      "cell_type": "code",
      "source": [
        "# Load CIFAR-10 dataset\n",
        "(X_train, y_train), (X_test, y_test) = cifar10.load_data()\n",
        "\n",
        "# Flatten the images\n",
        "X_train = X_train.reshape(X_train.shape[0], -1)\n",
        "X_test = X_test.reshape(X_test.shape[0], -1)\n",
        "\n",
        "# Convert pixel values to float and scale them to the range [0, 1]\n",
        "X_train = X_train.astype('float32') / 255.0\n",
        "X_test = X_test.astype('float32') / 255.0\n",
        "\n",
        "# Flatten the labels\n",
        "y_train = y_train.ravel()\n",
        "y_test = y_test.ravel()\n"
      ],
      "metadata": {
        "id": "_22CP8oVd_yA"
      },
      "execution_count": 9,
      "outputs": []
    },
    {
      "cell_type": "code",
      "source": [
        "# Initialize the KNN classifier\n",
        "knn = KNeighborsClassifier(n_neighbors=5, n_jobs=-1)\n",
        "\n",
        "# Train the KNN classifier\n",
        "knn.fit(X_train, y_train)\n"
      ],
      "metadata": {
        "colab": {
          "base_uri": "https://localhost:8080/",
          "height": 75
        },
        "id": "1Ee2fxwZfH2T",
        "outputId": "36065d8a-17d6-43e5-8e12-d5d5da0c47e0"
      },
      "execution_count": 10,
      "outputs": [
        {
          "output_type": "execute_result",
          "data": {
            "text/plain": [
              "KNeighborsClassifier(n_jobs=-1)"
            ],
            "text/html": [
              "<style>#sk-container-id-1 {color: black;background-color: white;}#sk-container-id-1 pre{padding: 0;}#sk-container-id-1 div.sk-toggleable {background-color: white;}#sk-container-id-1 label.sk-toggleable__label {cursor: pointer;display: block;width: 100%;margin-bottom: 0;padding: 0.3em;box-sizing: border-box;text-align: center;}#sk-container-id-1 label.sk-toggleable__label-arrow:before {content: \"▸\";float: left;margin-right: 0.25em;color: #696969;}#sk-container-id-1 label.sk-toggleable__label-arrow:hover:before {color: black;}#sk-container-id-1 div.sk-estimator:hover label.sk-toggleable__label-arrow:before {color: black;}#sk-container-id-1 div.sk-toggleable__content {max-height: 0;max-width: 0;overflow: hidden;text-align: left;background-color: #f0f8ff;}#sk-container-id-1 div.sk-toggleable__content pre {margin: 0.2em;color: black;border-radius: 0.25em;background-color: #f0f8ff;}#sk-container-id-1 input.sk-toggleable__control:checked~div.sk-toggleable__content {max-height: 200px;max-width: 100%;overflow: auto;}#sk-container-id-1 input.sk-toggleable__control:checked~label.sk-toggleable__label-arrow:before {content: \"▾\";}#sk-container-id-1 div.sk-estimator input.sk-toggleable__control:checked~label.sk-toggleable__label {background-color: #d4ebff;}#sk-container-id-1 div.sk-label input.sk-toggleable__control:checked~label.sk-toggleable__label {background-color: #d4ebff;}#sk-container-id-1 input.sk-hidden--visually {border: 0;clip: rect(1px 1px 1px 1px);clip: rect(1px, 1px, 1px, 1px);height: 1px;margin: -1px;overflow: hidden;padding: 0;position: absolute;width: 1px;}#sk-container-id-1 div.sk-estimator {font-family: monospace;background-color: #f0f8ff;border: 1px dotted black;border-radius: 0.25em;box-sizing: border-box;margin-bottom: 0.5em;}#sk-container-id-1 div.sk-estimator:hover {background-color: #d4ebff;}#sk-container-id-1 div.sk-parallel-item::after {content: \"\";width: 100%;border-bottom: 1px solid gray;flex-grow: 1;}#sk-container-id-1 div.sk-label:hover label.sk-toggleable__label {background-color: #d4ebff;}#sk-container-id-1 div.sk-serial::before {content: \"\";position: absolute;border-left: 1px solid gray;box-sizing: border-box;top: 0;bottom: 0;left: 50%;z-index: 0;}#sk-container-id-1 div.sk-serial {display: flex;flex-direction: column;align-items: center;background-color: white;padding-right: 0.2em;padding-left: 0.2em;position: relative;}#sk-container-id-1 div.sk-item {position: relative;z-index: 1;}#sk-container-id-1 div.sk-parallel {display: flex;align-items: stretch;justify-content: center;background-color: white;position: relative;}#sk-container-id-1 div.sk-item::before, #sk-container-id-1 div.sk-parallel-item::before {content: \"\";position: absolute;border-left: 1px solid gray;box-sizing: border-box;top: 0;bottom: 0;left: 50%;z-index: -1;}#sk-container-id-1 div.sk-parallel-item {display: flex;flex-direction: column;z-index: 1;position: relative;background-color: white;}#sk-container-id-1 div.sk-parallel-item:first-child::after {align-self: flex-end;width: 50%;}#sk-container-id-1 div.sk-parallel-item:last-child::after {align-self: flex-start;width: 50%;}#sk-container-id-1 div.sk-parallel-item:only-child::after {width: 0;}#sk-container-id-1 div.sk-dashed-wrapped {border: 1px dashed gray;margin: 0 0.4em 0.5em 0.4em;box-sizing: border-box;padding-bottom: 0.4em;background-color: white;}#sk-container-id-1 div.sk-label label {font-family: monospace;font-weight: bold;display: inline-block;line-height: 1.2em;}#sk-container-id-1 div.sk-label-container {text-align: center;}#sk-container-id-1 div.sk-container {/* jupyter's `normalize.less` sets `[hidden] { display: none; }` but bootstrap.min.css set `[hidden] { display: none !important; }` so we also need the `!important` here to be able to override the default hidden behavior on the sphinx rendered scikit-learn.org. See: https://github.com/scikit-learn/scikit-learn/issues/21755 */display: inline-block !important;position: relative;}#sk-container-id-1 div.sk-text-repr-fallback {display: none;}</style><div id=\"sk-container-id-1\" class=\"sk-top-container\"><div class=\"sk-text-repr-fallback\"><pre>KNeighborsClassifier(n_jobs=-1)</pre><b>In a Jupyter environment, please rerun this cell to show the HTML representation or trust the notebook. <br />On GitHub, the HTML representation is unable to render, please try loading this page with nbviewer.org.</b></div><div class=\"sk-container\" hidden><div class=\"sk-item\"><div class=\"sk-estimator sk-toggleable\"><input class=\"sk-toggleable__control sk-hidden--visually\" id=\"sk-estimator-id-1\" type=\"checkbox\" checked><label for=\"sk-estimator-id-1\" class=\"sk-toggleable__label sk-toggleable__label-arrow\">KNeighborsClassifier</label><div class=\"sk-toggleable__content\"><pre>KNeighborsClassifier(n_jobs=-1)</pre></div></div></div></div></div>"
            ]
          },
          "metadata": {},
          "execution_count": 10
        }
      ]
    },
    {
      "cell_type": "markdown",
      "source": [
        "**a) NO VALIDATION SET**"
      ],
      "metadata": {
        "id": "YX11rL6lYC8P"
      }
    },
    {
      "cell_type": "code",
      "source": [
        "# Predict on the test set\n",
        "y_test_pred = knn.predict(X_test)\n",
        "\n",
        "# Calculate accuracy on the test set\n",
        "test_accuracy = accuracy_score(y_test, y_test_pred)\n",
        "print(f'Test Accuracy: {test_accuracy * 100:.2f}%')\n",
        "\n",
        "# Classification report\n",
        "print(classification_report(y_test, y_test_pred))\n"
      ],
      "metadata": {
        "id": "l0LL3CBxgham",
        "colab": {
          "base_uri": "https://localhost:8080/"
        },
        "outputId": "8f8fea64-42b6-4128-ee0c-9f5cc50f419d"
      },
      "execution_count": 11,
      "outputs": [
        {
          "output_type": "stream",
          "name": "stdout",
          "text": [
            "Test Accuracy: 33.98%\n",
            "              precision    recall  f1-score   support\n",
            "\n",
            "           0       0.38      0.54      0.45      1000\n",
            "           1       0.65      0.20      0.31      1000\n",
            "           2       0.23      0.45      0.30      1000\n",
            "           3       0.29      0.22      0.25      1000\n",
            "           4       0.24      0.51      0.33      1000\n",
            "           5       0.39      0.22      0.28      1000\n",
            "           6       0.35      0.25      0.29      1000\n",
            "           7       0.68      0.21      0.32      1000\n",
            "           8       0.40      0.66      0.50      1000\n",
            "           9       0.70      0.14      0.23      1000\n",
            "\n",
            "    accuracy                           0.34     10000\n",
            "   macro avg       0.43      0.34      0.33     10000\n",
            "weighted avg       0.43      0.34      0.33     10000\n",
            "\n"
          ]
        }
      ]
    },
    {
      "cell_type": "code",
      "source": [
        "unique_classes = np.unique(y_test)\n",
        "\n",
        "for cls in unique_classes:\n",
        "    idx = np.where(y_test == cls)\n",
        "    cls_name = str(cls)\n",
        "\n",
        "    # Classification report for each class\n",
        "    print(f\"\\nClassification Report for Class {cls_name}:\")\n",
        "\n",
        "    # Compute metrics only for the current class\n",
        "    report = classification_report(y_test[idx], y_test_pred[idx], output_dict=True)\n",
        "\n",
        "    # Print precision, recall, and F1-score for the current class\n",
        "    print(f\"Precision: {report[cls_name]['precision']:.2f}\")\n",
        "    print(f\"Recall: {report[cls_name]['recall']:.2f}\")\n",
        "    print(f\"F1-score: {report[cls_name]['f1-score']:.2f}\")"
      ],
      "metadata": {
        "colab": {
          "base_uri": "https://localhost:8080/"
        },
        "id": "tygVnO70mhc3",
        "outputId": "80b05e12-12e5-48f6-f280-0d6a730d6fef"
      },
      "execution_count": 12,
      "outputs": [
        {
          "output_type": "stream",
          "name": "stdout",
          "text": [
            "\n",
            "Classification Report for Class 0:\n",
            "Precision: 1.00\n",
            "Recall: 0.54\n",
            "F1-score: 0.70\n",
            "\n",
            "Classification Report for Class 1:\n",
            "Precision: 1.00\n",
            "Recall: 0.20\n",
            "F1-score: 0.34\n",
            "\n",
            "Classification Report for Class 2:\n",
            "Precision: 1.00\n",
            "Recall: 0.45\n",
            "F1-score: 0.62\n",
            "\n",
            "Classification Report for Class 3:\n",
            "Precision: 1.00\n",
            "Recall: 0.22\n",
            "F1-score: 0.36\n",
            "\n",
            "Classification Report for Class 4:\n",
            "Precision: 1.00\n",
            "Recall: 0.51\n",
            "F1-score: 0.68\n",
            "\n",
            "Classification Report for Class 5:\n",
            "Precision: 1.00\n",
            "Recall: 0.22\n",
            "F1-score: 0.36\n",
            "\n",
            "Classification Report for Class 6:\n"
          ]
        },
        {
          "output_type": "stream",
          "name": "stderr",
          "text": [
            "/usr/local/lib/python3.10/dist-packages/sklearn/metrics/_classification.py:1344: UndefinedMetricWarning: Recall and F-score are ill-defined and being set to 0.0 in labels with no true samples. Use `zero_division` parameter to control this behavior.\n",
            "  _warn_prf(average, modifier, msg_start, len(result))\n",
            "/usr/local/lib/python3.10/dist-packages/sklearn/metrics/_classification.py:1344: UndefinedMetricWarning: Recall and F-score are ill-defined and being set to 0.0 in labels with no true samples. Use `zero_division` parameter to control this behavior.\n",
            "  _warn_prf(average, modifier, msg_start, len(result))\n",
            "/usr/local/lib/python3.10/dist-packages/sklearn/metrics/_classification.py:1344: UndefinedMetricWarning: Recall and F-score are ill-defined and being set to 0.0 in labels with no true samples. Use `zero_division` parameter to control this behavior.\n",
            "  _warn_prf(average, modifier, msg_start, len(result))\n",
            "/usr/local/lib/python3.10/dist-packages/sklearn/metrics/_classification.py:1344: UndefinedMetricWarning: Recall and F-score are ill-defined and being set to 0.0 in labels with no true samples. Use `zero_division` parameter to control this behavior.\n",
            "  _warn_prf(average, modifier, msg_start, len(result))\n",
            "/usr/local/lib/python3.10/dist-packages/sklearn/metrics/_classification.py:1344: UndefinedMetricWarning: Recall and F-score are ill-defined and being set to 0.0 in labels with no true samples. Use `zero_division` parameter to control this behavior.\n",
            "  _warn_prf(average, modifier, msg_start, len(result))\n",
            "/usr/local/lib/python3.10/dist-packages/sklearn/metrics/_classification.py:1344: UndefinedMetricWarning: Recall and F-score are ill-defined and being set to 0.0 in labels with no true samples. Use `zero_division` parameter to control this behavior.\n",
            "  _warn_prf(average, modifier, msg_start, len(result))\n",
            "/usr/local/lib/python3.10/dist-packages/sklearn/metrics/_classification.py:1344: UndefinedMetricWarning: Recall and F-score are ill-defined and being set to 0.0 in labels with no true samples. Use `zero_division` parameter to control this behavior.\n",
            "  _warn_prf(average, modifier, msg_start, len(result))\n",
            "/usr/local/lib/python3.10/dist-packages/sklearn/metrics/_classification.py:1344: UndefinedMetricWarning: Recall and F-score are ill-defined and being set to 0.0 in labels with no true samples. Use `zero_division` parameter to control this behavior.\n",
            "  _warn_prf(average, modifier, msg_start, len(result))\n",
            "/usr/local/lib/python3.10/dist-packages/sklearn/metrics/_classification.py:1344: UndefinedMetricWarning: Recall and F-score are ill-defined and being set to 0.0 in labels with no true samples. Use `zero_division` parameter to control this behavior.\n",
            "  _warn_prf(average, modifier, msg_start, len(result))\n",
            "/usr/local/lib/python3.10/dist-packages/sklearn/metrics/_classification.py:1344: UndefinedMetricWarning: Recall and F-score are ill-defined and being set to 0.0 in labels with no true samples. Use `zero_division` parameter to control this behavior.\n",
            "  _warn_prf(average, modifier, msg_start, len(result))\n",
            "/usr/local/lib/python3.10/dist-packages/sklearn/metrics/_classification.py:1344: UndefinedMetricWarning: Recall and F-score are ill-defined and being set to 0.0 in labels with no true samples. Use `zero_division` parameter to control this behavior.\n",
            "  _warn_prf(average, modifier, msg_start, len(result))\n",
            "/usr/local/lib/python3.10/dist-packages/sklearn/metrics/_classification.py:1344: UndefinedMetricWarning: Recall and F-score are ill-defined and being set to 0.0 in labels with no true samples. Use `zero_division` parameter to control this behavior.\n",
            "  _warn_prf(average, modifier, msg_start, len(result))\n",
            "/usr/local/lib/python3.10/dist-packages/sklearn/metrics/_classification.py:1344: UndefinedMetricWarning: Recall and F-score are ill-defined and being set to 0.0 in labels with no true samples. Use `zero_division` parameter to control this behavior.\n",
            "  _warn_prf(average, modifier, msg_start, len(result))\n",
            "/usr/local/lib/python3.10/dist-packages/sklearn/metrics/_classification.py:1344: UndefinedMetricWarning: Recall and F-score are ill-defined and being set to 0.0 in labels with no true samples. Use `zero_division` parameter to control this behavior.\n",
            "  _warn_prf(average, modifier, msg_start, len(result))\n",
            "/usr/local/lib/python3.10/dist-packages/sklearn/metrics/_classification.py:1344: UndefinedMetricWarning: Recall and F-score are ill-defined and being set to 0.0 in labels with no true samples. Use `zero_division` parameter to control this behavior.\n",
            "  _warn_prf(average, modifier, msg_start, len(result))\n",
            "/usr/local/lib/python3.10/dist-packages/sklearn/metrics/_classification.py:1344: UndefinedMetricWarning: Recall and F-score are ill-defined and being set to 0.0 in labels with no true samples. Use `zero_division` parameter to control this behavior.\n",
            "  _warn_prf(average, modifier, msg_start, len(result))\n",
            "/usr/local/lib/python3.10/dist-packages/sklearn/metrics/_classification.py:1344: UndefinedMetricWarning: Recall and F-score are ill-defined and being set to 0.0 in labels with no true samples. Use `zero_division` parameter to control this behavior.\n",
            "  _warn_prf(average, modifier, msg_start, len(result))\n",
            "/usr/local/lib/python3.10/dist-packages/sklearn/metrics/_classification.py:1344: UndefinedMetricWarning: Recall and F-score are ill-defined and being set to 0.0 in labels with no true samples. Use `zero_division` parameter to control this behavior.\n",
            "  _warn_prf(average, modifier, msg_start, len(result))\n",
            "/usr/local/lib/python3.10/dist-packages/sklearn/metrics/_classification.py:1344: UndefinedMetricWarning: Recall and F-score are ill-defined and being set to 0.0 in labels with no true samples. Use `zero_division` parameter to control this behavior.\n",
            "  _warn_prf(average, modifier, msg_start, len(result))\n"
          ]
        },
        {
          "output_type": "stream",
          "name": "stdout",
          "text": [
            "Precision: 1.00\n",
            "Recall: 0.25\n",
            "F1-score: 0.40\n",
            "\n",
            "Classification Report for Class 7:\n",
            "Precision: 1.00\n",
            "Recall: 0.21\n",
            "F1-score: 0.35\n",
            "\n",
            "Classification Report for Class 8:\n",
            "Precision: 1.00\n",
            "Recall: 0.66\n",
            "F1-score: 0.79\n",
            "\n",
            "Classification Report for Class 9:\n",
            "Precision: 1.00\n",
            "Recall: 0.14\n",
            "F1-score: 0.25\n"
          ]
        },
        {
          "output_type": "stream",
          "name": "stderr",
          "text": [
            "/usr/local/lib/python3.10/dist-packages/sklearn/metrics/_classification.py:1344: UndefinedMetricWarning: Recall and F-score are ill-defined and being set to 0.0 in labels with no true samples. Use `zero_division` parameter to control this behavior.\n",
            "  _warn_prf(average, modifier, msg_start, len(result))\n",
            "/usr/local/lib/python3.10/dist-packages/sklearn/metrics/_classification.py:1344: UndefinedMetricWarning: Recall and F-score are ill-defined and being set to 0.0 in labels with no true samples. Use `zero_division` parameter to control this behavior.\n",
            "  _warn_prf(average, modifier, msg_start, len(result))\n",
            "/usr/local/lib/python3.10/dist-packages/sklearn/metrics/_classification.py:1344: UndefinedMetricWarning: Recall and F-score are ill-defined and being set to 0.0 in labels with no true samples. Use `zero_division` parameter to control this behavior.\n",
            "  _warn_prf(average, modifier, msg_start, len(result))\n",
            "/usr/local/lib/python3.10/dist-packages/sklearn/metrics/_classification.py:1344: UndefinedMetricWarning: Recall and F-score are ill-defined and being set to 0.0 in labels with no true samples. Use `zero_division` parameter to control this behavior.\n",
            "  _warn_prf(average, modifier, msg_start, len(result))\n",
            "/usr/local/lib/python3.10/dist-packages/sklearn/metrics/_classification.py:1344: UndefinedMetricWarning: Recall and F-score are ill-defined and being set to 0.0 in labels with no true samples. Use `zero_division` parameter to control this behavior.\n",
            "  _warn_prf(average, modifier, msg_start, len(result))\n",
            "/usr/local/lib/python3.10/dist-packages/sklearn/metrics/_classification.py:1344: UndefinedMetricWarning: Recall and F-score are ill-defined and being set to 0.0 in labels with no true samples. Use `zero_division` parameter to control this behavior.\n",
            "  _warn_prf(average, modifier, msg_start, len(result))\n",
            "/usr/local/lib/python3.10/dist-packages/sklearn/metrics/_classification.py:1344: UndefinedMetricWarning: Recall and F-score are ill-defined and being set to 0.0 in labels with no true samples. Use `zero_division` parameter to control this behavior.\n",
            "  _warn_prf(average, modifier, msg_start, len(result))\n",
            "/usr/local/lib/python3.10/dist-packages/sklearn/metrics/_classification.py:1344: UndefinedMetricWarning: Recall and F-score are ill-defined and being set to 0.0 in labels with no true samples. Use `zero_division` parameter to control this behavior.\n",
            "  _warn_prf(average, modifier, msg_start, len(result))\n",
            "/usr/local/lib/python3.10/dist-packages/sklearn/metrics/_classification.py:1344: UndefinedMetricWarning: Recall and F-score are ill-defined and being set to 0.0 in labels with no true samples. Use `zero_division` parameter to control this behavior.\n",
            "  _warn_prf(average, modifier, msg_start, len(result))\n",
            "/usr/local/lib/python3.10/dist-packages/sklearn/metrics/_classification.py:1344: UndefinedMetricWarning: Recall and F-score are ill-defined and being set to 0.0 in labels with no true samples. Use `zero_division` parameter to control this behavior.\n",
            "  _warn_prf(average, modifier, msg_start, len(result))\n",
            "/usr/local/lib/python3.10/dist-packages/sklearn/metrics/_classification.py:1344: UndefinedMetricWarning: Recall and F-score are ill-defined and being set to 0.0 in labels with no true samples. Use `zero_division` parameter to control this behavior.\n",
            "  _warn_prf(average, modifier, msg_start, len(result))\n"
          ]
        }
      ]
    },
    {
      "cell_type": "markdown",
      "source": [
        "Strengths: The model generally has high precision for most classes, meaning when it predicts a class, it's usually correct.\n",
        "\n",
        "Weaknesses: The model's recall is quite low for several classes, indicating it often misses actual instances of those classes. This suggests potential issues with class imbalance or the model's ability to distinguish certain classes.\n",
        "\n",
        "Warnings: The \"UndefinedMetricWarning\" suggests that some classes have no true samples in the dataset, meaning the model didn't encounter any instances of these classes during evaluation"
      ],
      "metadata": {
        "id": "UkYlIGBnm741"
      }
    },
    {
      "cell_type": "markdown",
      "source": [
        "**b)1 VALIDATION SET WITH 20% OF 80%**"
      ],
      "metadata": {
        "id": "dwxT1ufIZq0R"
      }
    },
    {
      "cell_type": "code",
      "source": [
        "# Split the dataset into training and testing sets\n",
        "X_train, X_val, y_train, y_val = train_test_split(X_train, y_train, test_size=0.2, random_state=42)\n"
      ],
      "metadata": {
        "id": "sJTzKVJgejlv"
      },
      "execution_count": 18,
      "outputs": []
    },
    {
      "cell_type": "code",
      "source": [
        "#Fit the moidel on training data\n",
        "knn.fit(X_train, y_train)\n",
        "# Predict on the validation set\n",
        "y_val_pred = knn.predict(X_val)\n",
        "\n",
        "# Calculate accuracy on the validation set\n",
        "accuracy = accuracy_score(y_val, y_val_pred)\n",
        "print(f'Validation Accuracy: {accuracy * 100:.2f}%')\n",
        "\n",
        "# Classification report\n",
        "print(classification_report(y_val, y_val_pred))\n",
        "\n",
        "# Predict on the test set\n",
        "y_test_pred = knn.predict(X_test)\n",
        "\n",
        "# Calculate accuracy on the test set\n",
        "test_accuracy = accuracy_score(y_test, y_test_pred)\n",
        "print(f'Test Accuracy: {test_accuracy * 100:.2f}%')\n"
      ],
      "metadata": {
        "colab": {
          "base_uri": "https://localhost:8080/"
        },
        "id": "53rfOocefLvN",
        "outputId": "c2351cab-7a62-46b1-b29f-be73553fc3b5"
      },
      "execution_count": 19,
      "outputs": [
        {
          "output_type": "stream",
          "name": "stdout",
          "text": [
            "Validation Accuracy: 32.41%\n",
            "              precision    recall  f1-score   support\n",
            "\n",
            "           0       0.37      0.53      0.44       803\n",
            "           1       0.62      0.19      0.29       778\n",
            "           2       0.21      0.42      0.28       788\n",
            "           3       0.30      0.19      0.23       811\n",
            "           4       0.22      0.48      0.30       792\n",
            "           5       0.40      0.23      0.29       784\n",
            "           6       0.34      0.26      0.30       774\n",
            "           7       0.68      0.19      0.30       849\n",
            "           8       0.38      0.64      0.47       788\n",
            "           9       0.72      0.12      0.21       833\n",
            "\n",
            "    accuracy                           0.32      8000\n",
            "   macro avg       0.42      0.33      0.31      8000\n",
            "weighted avg       0.42      0.32      0.31      8000\n",
            "\n",
            "Test Accuracy: 32.36%\n"
          ]
        }
      ]
    },
    {
      "cell_type": "code",
      "source": [
        "unique_classes = np.unique(y_test)\n",
        "\n",
        "for cls in unique_classes:\n",
        "    idx = np.where(y_test == cls)\n",
        "    cls_name = str(cls)\n",
        "\n",
        "    # Classification report for each class\n",
        "    print(f\"\\nClassification Report for Class {cls_name}:\")\n",
        "\n",
        "    # Compute metrics only for the current class\n",
        "    report = classification_report(y_test[idx], y_test_pred[idx], output_dict=True)\n",
        "\n",
        "    # Print precision, recall, and F1-score for the current class\n",
        "    print(f\"Precision: {report[cls_name]['precision']:.2f}\")\n",
        "    print(f\"Recall: {report[cls_name]['recall']:.2f}\")\n",
        "    print(f\"F1-score: {report[cls_name]['f1-score']:.2f}\")"
      ],
      "metadata": {
        "colab": {
          "base_uri": "https://localhost:8080/"
        },
        "id": "woZ7zfNbnA8s",
        "outputId": "f3ff6c1a-11fa-4c8d-c7d0-d367b6893141"
      },
      "execution_count": 15,
      "outputs": [
        {
          "output_type": "stream",
          "name": "stdout",
          "text": [
            "\n",
            "Classification Report for Class 0:\n",
            "Precision: 1.00\n",
            "Recall: 0.54\n",
            "F1-score: 0.70\n",
            "\n",
            "Classification Report for Class 1:\n",
            "Precision: 1.00\n",
            "Recall: 0.20\n",
            "F1-score: 0.34\n",
            "\n",
            "Classification Report for Class 2:\n",
            "Precision: 1.00\n",
            "Recall: 0.45\n",
            "F1-score: 0.62\n",
            "\n",
            "Classification Report for Class 3:\n",
            "Precision: 1.00\n",
            "Recall: 0.22\n",
            "F1-score: 0.36\n",
            "\n",
            "Classification Report for Class 4:\n",
            "Precision: 1.00\n",
            "Recall: 0.51\n",
            "F1-score: 0.68\n",
            "\n",
            "Classification Report for Class 5:\n",
            "Precision: 1.00\n",
            "Recall: 0.22\n",
            "F1-score: 0.36\n",
            "\n",
            "Classification Report for Class 6:\n",
            "Precision: 1.00\n",
            "Recall: 0.25\n",
            "F1-score: 0.40\n",
            "\n",
            "Classification Report for Class 7:\n",
            "Precision: 1.00\n",
            "Recall: 0.21\n",
            "F1-score: 0.35\n",
            "\n",
            "Classification Report for Class 8:\n",
            "Precision: 1.00\n",
            "Recall: 0.66\n",
            "F1-score: 0.79\n",
            "\n",
            "Classification Report for Class 9:\n",
            "Precision: 1.00\n",
            "Recall: 0.14\n",
            "F1-score: 0.25\n"
          ]
        },
        {
          "output_type": "stream",
          "name": "stderr",
          "text": [
            "/usr/local/lib/python3.10/dist-packages/sklearn/metrics/_classification.py:1344: UndefinedMetricWarning: Recall and F-score are ill-defined and being set to 0.0 in labels with no true samples. Use `zero_division` parameter to control this behavior.\n",
            "  _warn_prf(average, modifier, msg_start, len(result))\n",
            "/usr/local/lib/python3.10/dist-packages/sklearn/metrics/_classification.py:1344: UndefinedMetricWarning: Recall and F-score are ill-defined and being set to 0.0 in labels with no true samples. Use `zero_division` parameter to control this behavior.\n",
            "  _warn_prf(average, modifier, msg_start, len(result))\n",
            "/usr/local/lib/python3.10/dist-packages/sklearn/metrics/_classification.py:1344: UndefinedMetricWarning: Recall and F-score are ill-defined and being set to 0.0 in labels with no true samples. Use `zero_division` parameter to control this behavior.\n",
            "  _warn_prf(average, modifier, msg_start, len(result))\n",
            "/usr/local/lib/python3.10/dist-packages/sklearn/metrics/_classification.py:1344: UndefinedMetricWarning: Recall and F-score are ill-defined and being set to 0.0 in labels with no true samples. Use `zero_division` parameter to control this behavior.\n",
            "  _warn_prf(average, modifier, msg_start, len(result))\n",
            "/usr/local/lib/python3.10/dist-packages/sklearn/metrics/_classification.py:1344: UndefinedMetricWarning: Recall and F-score are ill-defined and being set to 0.0 in labels with no true samples. Use `zero_division` parameter to control this behavior.\n",
            "  _warn_prf(average, modifier, msg_start, len(result))\n",
            "/usr/local/lib/python3.10/dist-packages/sklearn/metrics/_classification.py:1344: UndefinedMetricWarning: Recall and F-score are ill-defined and being set to 0.0 in labels with no true samples. Use `zero_division` parameter to control this behavior.\n",
            "  _warn_prf(average, modifier, msg_start, len(result))\n",
            "/usr/local/lib/python3.10/dist-packages/sklearn/metrics/_classification.py:1344: UndefinedMetricWarning: Recall and F-score are ill-defined and being set to 0.0 in labels with no true samples. Use `zero_division` parameter to control this behavior.\n",
            "  _warn_prf(average, modifier, msg_start, len(result))\n",
            "/usr/local/lib/python3.10/dist-packages/sklearn/metrics/_classification.py:1344: UndefinedMetricWarning: Recall and F-score are ill-defined and being set to 0.0 in labels with no true samples. Use `zero_division` parameter to control this behavior.\n",
            "  _warn_prf(average, modifier, msg_start, len(result))\n",
            "/usr/local/lib/python3.10/dist-packages/sklearn/metrics/_classification.py:1344: UndefinedMetricWarning: Recall and F-score are ill-defined and being set to 0.0 in labels with no true samples. Use `zero_division` parameter to control this behavior.\n",
            "  _warn_prf(average, modifier, msg_start, len(result))\n",
            "/usr/local/lib/python3.10/dist-packages/sklearn/metrics/_classification.py:1344: UndefinedMetricWarning: Recall and F-score are ill-defined and being set to 0.0 in labels with no true samples. Use `zero_division` parameter to control this behavior.\n",
            "  _warn_prf(average, modifier, msg_start, len(result))\n",
            "/usr/local/lib/python3.10/dist-packages/sklearn/metrics/_classification.py:1344: UndefinedMetricWarning: Recall and F-score are ill-defined and being set to 0.0 in labels with no true samples. Use `zero_division` parameter to control this behavior.\n",
            "  _warn_prf(average, modifier, msg_start, len(result))\n",
            "/usr/local/lib/python3.10/dist-packages/sklearn/metrics/_classification.py:1344: UndefinedMetricWarning: Recall and F-score are ill-defined and being set to 0.0 in labels with no true samples. Use `zero_division` parameter to control this behavior.\n",
            "  _warn_prf(average, modifier, msg_start, len(result))\n",
            "/usr/local/lib/python3.10/dist-packages/sklearn/metrics/_classification.py:1344: UndefinedMetricWarning: Recall and F-score are ill-defined and being set to 0.0 in labels with no true samples. Use `zero_division` parameter to control this behavior.\n",
            "  _warn_prf(average, modifier, msg_start, len(result))\n",
            "/usr/local/lib/python3.10/dist-packages/sklearn/metrics/_classification.py:1344: UndefinedMetricWarning: Recall and F-score are ill-defined and being set to 0.0 in labels with no true samples. Use `zero_division` parameter to control this behavior.\n",
            "  _warn_prf(average, modifier, msg_start, len(result))\n",
            "/usr/local/lib/python3.10/dist-packages/sklearn/metrics/_classification.py:1344: UndefinedMetricWarning: Recall and F-score are ill-defined and being set to 0.0 in labels with no true samples. Use `zero_division` parameter to control this behavior.\n",
            "  _warn_prf(average, modifier, msg_start, len(result))\n",
            "/usr/local/lib/python3.10/dist-packages/sklearn/metrics/_classification.py:1344: UndefinedMetricWarning: Recall and F-score are ill-defined and being set to 0.0 in labels with no true samples. Use `zero_division` parameter to control this behavior.\n",
            "  _warn_prf(average, modifier, msg_start, len(result))\n",
            "/usr/local/lib/python3.10/dist-packages/sklearn/metrics/_classification.py:1344: UndefinedMetricWarning: Recall and F-score are ill-defined and being set to 0.0 in labels with no true samples. Use `zero_division` parameter to control this behavior.\n",
            "  _warn_prf(average, modifier, msg_start, len(result))\n",
            "/usr/local/lib/python3.10/dist-packages/sklearn/metrics/_classification.py:1344: UndefinedMetricWarning: Recall and F-score are ill-defined and being set to 0.0 in labels with no true samples. Use `zero_division` parameter to control this behavior.\n",
            "  _warn_prf(average, modifier, msg_start, len(result))\n",
            "/usr/local/lib/python3.10/dist-packages/sklearn/metrics/_classification.py:1344: UndefinedMetricWarning: Recall and F-score are ill-defined and being set to 0.0 in labels with no true samples. Use `zero_division` parameter to control this behavior.\n",
            "  _warn_prf(average, modifier, msg_start, len(result))\n",
            "/usr/local/lib/python3.10/dist-packages/sklearn/metrics/_classification.py:1344: UndefinedMetricWarning: Recall and F-score are ill-defined and being set to 0.0 in labels with no true samples. Use `zero_division` parameter to control this behavior.\n",
            "  _warn_prf(average, modifier, msg_start, len(result))\n",
            "/usr/local/lib/python3.10/dist-packages/sklearn/metrics/_classification.py:1344: UndefinedMetricWarning: Recall and F-score are ill-defined and being set to 0.0 in labels with no true samples. Use `zero_division` parameter to control this behavior.\n",
            "  _warn_prf(average, modifier, msg_start, len(result))\n",
            "/usr/local/lib/python3.10/dist-packages/sklearn/metrics/_classification.py:1344: UndefinedMetricWarning: Recall and F-score are ill-defined and being set to 0.0 in labels with no true samples. Use `zero_division` parameter to control this behavior.\n",
            "  _warn_prf(average, modifier, msg_start, len(result))\n",
            "/usr/local/lib/python3.10/dist-packages/sklearn/metrics/_classification.py:1344: UndefinedMetricWarning: Recall and F-score are ill-defined and being set to 0.0 in labels with no true samples. Use `zero_division` parameter to control this behavior.\n",
            "  _warn_prf(average, modifier, msg_start, len(result))\n",
            "/usr/local/lib/python3.10/dist-packages/sklearn/metrics/_classification.py:1344: UndefinedMetricWarning: Recall and F-score are ill-defined and being set to 0.0 in labels with no true samples. Use `zero_division` parameter to control this behavior.\n",
            "  _warn_prf(average, modifier, msg_start, len(result))\n",
            "/usr/local/lib/python3.10/dist-packages/sklearn/metrics/_classification.py:1344: UndefinedMetricWarning: Recall and F-score are ill-defined and being set to 0.0 in labels with no true samples. Use `zero_division` parameter to control this behavior.\n",
            "  _warn_prf(average, modifier, msg_start, len(result))\n",
            "/usr/local/lib/python3.10/dist-packages/sklearn/metrics/_classification.py:1344: UndefinedMetricWarning: Recall and F-score are ill-defined and being set to 0.0 in labels with no true samples. Use `zero_division` parameter to control this behavior.\n",
            "  _warn_prf(average, modifier, msg_start, len(result))\n",
            "/usr/local/lib/python3.10/dist-packages/sklearn/metrics/_classification.py:1344: UndefinedMetricWarning: Recall and F-score are ill-defined and being set to 0.0 in labels with no true samples. Use `zero_division` parameter to control this behavior.\n",
            "  _warn_prf(average, modifier, msg_start, len(result))\n",
            "/usr/local/lib/python3.10/dist-packages/sklearn/metrics/_classification.py:1344: UndefinedMetricWarning: Recall and F-score are ill-defined and being set to 0.0 in labels with no true samples. Use `zero_division` parameter to control this behavior.\n",
            "  _warn_prf(average, modifier, msg_start, len(result))\n",
            "/usr/local/lib/python3.10/dist-packages/sklearn/metrics/_classification.py:1344: UndefinedMetricWarning: Recall and F-score are ill-defined and being set to 0.0 in labels with no true samples. Use `zero_division` parameter to control this behavior.\n",
            "  _warn_prf(average, modifier, msg_start, len(result))\n",
            "/usr/local/lib/python3.10/dist-packages/sklearn/metrics/_classification.py:1344: UndefinedMetricWarning: Recall and F-score are ill-defined and being set to 0.0 in labels with no true samples. Use `zero_division` parameter to control this behavior.\n",
            "  _warn_prf(average, modifier, msg_start, len(result))\n"
          ]
        }
      ]
    },
    {
      "cell_type": "markdown",
      "source": [
        "High Precision: For all classes, the precision is 1.00, which means that when the model predicts a class, it is almost always correct. This suggests that false positives are very rare across all classes.\n",
        "\n",
        "Low Recall: The recall values for most classes are quite low. Recall measures the ability of the model to correctly identify instances of a class out of all actual instances of that class. Low recall values, especially for classes 1, 3, 5, 6, 7, and 9, indicate that the model is missing a significant number of actual instances of these classes.\n",
        "\n",
        "F1-score: The F1-score is the harmonic mean of precision and recall, giving a balance between the two metrics. Most classes have moderate F1-scores, indicating a decent balance between precision and recall. However, classes with low recall also tend to have lower F1-scores, reflecting the model's struggle to correctly identify instances of these classes.\n",
        "\n",
        "UndefinedMetricWarning: The warning messages suggest that some classes have no true samples in the dataset. This could mean that these classes are underrepresented or completely absent in the dataset used for evaluation. The warning also suggests that recall and F-score for these classes are set to 0.0 due to division by zero, making the metrics unreliable for these classes"
      ],
      "metadata": {
        "id": "T_4f2iPcoKNU"
      }
    },
    {
      "cell_type": "markdown",
      "source": [
        "**c)3-FOLD CROSS VALIDTION SET**"
      ],
      "metadata": {
        "id": "eGVbtATpaFZo"
      }
    },
    {
      "cell_type": "code",
      "source": [
        "import numpy as np\n",
        "import matplotlib.pyplot as plt\n",
        "from sklearn.neighbors import KNeighborsClassifier\n",
        "from sklearn.model_selection import cross_val_score\n",
        "\n",
        "# Load CIFAR-10 dataset\n",
        "(X_train, y_train), (X_test, y_test) = cifar10.load_data()\n",
        "\n",
        "# Flatten the images\n",
        "X_train = X_train.reshape(X_train.shape[0], -1)\n",
        "X_test = X_test.reshape(X_test.shape[0], -1)\n",
        "\n",
        "# Convert pixel values to float and scale them to the range [0, 1]\n",
        "X_train = X_train.astype('float32') / 255.0\n",
        "X_test = X_test.astype('float32') / 255.0\n",
        "\n",
        "# Flatten the labels\n",
        "y_train = y_train.ravel()\n",
        "y_test = y_test.ravel()\n",
        "\n",
        "# Initialize KNN classifier\n",
        "knn = KNeighborsClassifier(n_neighbors=5)\n",
        "\n",
        "# Perform 3-fold cross-validation\n",
        "scores = cross_val_score(knn, X_train, y_train, cv=3, scoring='accuracy')\n",
        "\n",
        "# Print the cross-validation scores\n",
        "for i, score in enumerate(scores, 1):\n",
        "    print(f'Fold {i} Accuracy: {score * 100:.2f}%')\n",
        "\n",
        "# Print the mean and standard deviation of the cross-validation scores\n",
        "print(f'\\nMean Accuracy: {np.mean(scores) * 100:.2f}%')\n",
        "print(f'Standard Deviation: {np.std(scores) * 100:.2f}%')\n",
        "\n",
        "# Plotting the scores\n",
        "plt.figure(figsize=(6, 4))\n",
        "plt.plot(range(1, 4), scores, marker='o')\n",
        "plt.title('Cross-Validation Scores')\n",
        "plt.xlabel('Fold')\n",
        "plt.ylabel('Accuracy')\n",
        "plt.xticks(range(1, 4))\n",
        "plt.grid(True)\n",
        "plt.show()"
      ],
      "metadata": {
        "colab": {
          "base_uri": "https://localhost:8080/",
          "height": 514
        },
        "id": "MyKefSJQvQ4Q",
        "outputId": "eebfeefc-2c90-4683-9550-ad7f79c41741"
      },
      "execution_count": 21,
      "outputs": [
        {
          "output_type": "stream",
          "name": "stdout",
          "text": [
            "Fold 1 Accuracy: 32.85%\n",
            "Fold 2 Accuracy: 32.68%\n",
            "Fold 3 Accuracy: 32.07%\n",
            "\n",
            "Mean Accuracy: 32.53%\n",
            "Standard Deviation: 0.34%\n"
          ]
        },
        {
          "output_type": "display_data",
          "data": {
            "text/plain": [
              "<Figure size 600x400 with 1 Axes>"
            ],
            "image/png": "[encoded data removed]"
          },
          "metadata": {}
        }
      ]
    },
    {
      "cell_type": "markdown",
      "source": [
        "**d)5-FOLD CROSS VALIDATION SET**"
      ],
      "metadata": {
        "id": "5zcXK_NWaQX4"
      }
    },
    {
      "cell_type": "code",
      "source": [
        "# Perform 5-fold cross-validation\n",
        "scores = cross_val_score(knn, X_train, y_train, cv=5, scoring='accuracy')\n",
        "\n",
        "# Print the cross-validation scores\n",
        "for i, score in enumerate(scores, 1):\n",
        "    print(f'Fold {i} Accuracy: {score * 100:.2f}%')\n",
        "\n",
        "# Print the mean and standard deviation of the cross-validation scores\n",
        "print(f'\\nMean Accuracy: {np.mean(scores) * 100:.2f}%')\n",
        "print(f'Standard Deviation: {np.std(scores) * 100:.2f}%')"
      ],
      "metadata": {
        "id": "dW0ZgJTVi5Rc",
        "colab": {
          "base_uri": "https://localhost:8080/"
        },
        "outputId": "72e91d77-b116-4b83-e2e9-f8dbf206d99d"
      },
      "execution_count": null,
      "outputs": [
        {
          "output_type": "stream",
          "name": "stdout",
          "text": [
            "Fold 1 Accuracy: 33.26%\n",
            "Fold 2 Accuracy: 32.86%\n",
            "Fold 3 Accuracy: 33.70%\n",
            "Fold 4 Accuracy: 33.17%\n",
            "Fold 5 Accuracy: 33.04%\n",
            "\n",
            "Mean Accuracy: 33.21%\n",
            "Standard Deviation: 0.28%\n"
          ]
        }
      ]
    },
    {
      "cell_type": "markdown",
      "source": [
        "**d)10-FOLD CROSS VALIDATION SET**"
      ],
      "metadata": {
        "id": "lbXSSbJzaWyv"
      }
    },
    {
      "cell_type": "code",
      "source": [
        "# Perform 10-fold cross-validation\n",
        "scores = cross_val_score(knn, X_train, y_train, cv=10, scoring='accuracy')\n",
        "\n",
        "# Print the cross-validation scores\n",
        "for i, score in enumerate(scores, 1):\n",
        "    print(f'Fold {i} Accuracy: {score * 100:.2f}%')\n",
        "\n",
        "# Print the mean and standard deviation of the cross-validation scores\n",
        "print(f'\\nMean Accuracy: {np.mean(scores) * 100:.2f}%')\n",
        "print(f'Standard Deviation: {np.std(scores) * 100:.2f}%')"
      ],
      "metadata": {
        "id": "uRLQnXN8klTV",
        "colab": {
          "base_uri": "https://localhost:8080/"
        },
        "outputId": "24848664-318b-44c4-be66-5f598ee983fc"
      },
      "execution_count": null,
      "outputs": [
        {
          "output_type": "stream",
          "name": "stdout",
          "text": [
            "Fold 1 Accuracy: 34.04%\n",
            "Fold 2 Accuracy: 33.34%\n",
            "Fold 3 Accuracy: 33.54%\n",
            "Fold 4 Accuracy: 33.18%\n",
            "Fold 5 Accuracy: 33.98%\n",
            "Fold 6 Accuracy: 34.02%\n",
            "Fold 7 Accuracy: 33.56%\n",
            "Fold 8 Accuracy: 33.30%\n",
            "Fold 9 Accuracy: 33.32%\n",
            "Fold 10 Accuracy: 33.74%\n",
            "\n",
            "Mean Accuracy: 33.60%\n",
            "Standard Deviation: 0.31%\n"
          ]
        }
      ]
    },
    {
      "cell_type": "markdown",
      "source": [
        "**e)LEAVE-ONE-OUT CROSS-VALIDATION SET**"
      ],
      "metadata": {
        "id": "qpH5aozmacnx"
      }
    },
    {
      "cell_type": "code",
      "source": [
        "import numpy as np\n",
        "import matplotlib.pyplot as plt\n",
        "from sklearn.neighbors import KNeighborsClassifier\n",
        "from sklearn.model_selection import cross_val_score, LeaveOneOut\n",
        "from sklearn.metrics import classification_report\n",
        "\n",
        "\n",
        "# Load CIFAR-10 dataset\n",
        "(X, y), (_, _) = cifar10.load_data()\n",
        "\n",
        "# Flatten the images\n",
        "X = X.reshape(X.shape[0], -1)\n",
        "\n",
        "# Convert pixel values to float and scale them to the range [0, 1]\n",
        "X = X.astype('float32') / 255.0\n",
        "\n",
        "# Flatten the labels\n",
        "y = y.ravel()\n",
        "\n",
        "# Select the first 100 data points\n",
        "X_100 = X[:100]\n",
        "y_100 = y[:100]\n",
        "\n",
        "# Initialize the KNN classifier\n",
        "knn = KNeighborsClassifier(n_neighbors=5, n_jobs=-1)\n",
        "\n",
        "# Initialize Leave-One-Out cross-validation\n",
        "loo = LeaveOneOut()\n",
        "\n",
        "# Perform Leave-One-Out cross-validation on the first 100 data points\n",
        "scores = cross_val_score(knn, X_100, y_100, cv=loo, scoring='accuracy')\n",
        "\n",
        "# Print the number of CV iterations and accuracy\n",
        "print(f'Number of CV iterations: {len(scores)}')\n",
        "print(f'Mean Accuracy: {np.mean(scores) * 100:.2f}%')\n",
        "print(f'Standard Deviation: {np.std(scores) * 100:.2f}%')\n",
        "\n"
      ],
      "metadata": {
        "id": "lrraTMwZkpkm",
        "colab": {
          "base_uri": "https://localhost:8080/"
        },
        "outputId": "39f1a335-9b2e-4fc5-a384-2c59dc4cc8cb"
      },
      "execution_count": null,
      "outputs": [
        {
          "output_type": "stream",
          "name": "stdout",
          "text": [
            "Number of CV iterations: 100\n",
            "Mean Accuracy: 18.00%\n",
            "Standard Deviation: 38.42%\n"
          ]
        }
      ]
    },
    {
      "cell_type": "markdown",
      "source": [
        "**PERFORMING MODEL ON EACH CLASS**"
      ],
      "metadata": {
        "id": "qciaYE26ajUq"
      }
    },
    {
      "cell_type": "code",
      "source": [
        "unique_classes = np.unique(y_test)\n",
        "\n",
        "for cls in unique_classes:\n",
        "    idx = np.where(y_test == cls)\n",
        "    cls_name = str(cls)\n",
        "\n",
        "    # Classification report for each class\n",
        "    print(f\"\\nClassification Report for Class {cls_name}:\")\n",
        "\n",
        "    # Compute metrics only for the current class\n",
        "    report = classification_report(y_test[idx], y_test_pred[idx], output_dict=True)\n",
        "\n",
        "    # Print precision, recall, and F1-score for the current class\n",
        "    print(f\"Precision: {report[cls_name]['precision']:.2f}\")\n",
        "    print(f\"Recall: {report[cls_name]['recall']:.2f}\")\n",
        "    print(f\"F1-score: {report[cls_name]['f1-score']:.2f}\")"
      ],
      "metadata": {
        "colab": {
          "base_uri": "https://localhost:8080/"
        },
        "id": "JsDnDdapzV8b",
        "outputId": "390955ce-7ede-4dc6-d22d-f329a0a32bd3"
      },
      "execution_count": 11,
      "outputs": [
        {
          "output_type": "stream",
          "name": "stdout",
          "text": [
            "\n",
            "Classification Report for Class 0:\n",
            "Precision: 1.00\n",
            "Recall: 0.54\n",
            "F1-score: 0.70\n",
            "\n",
            "Classification Report for Class 1:\n",
            "Precision: 1.00\n",
            "Recall: 0.20\n",
            "F1-score: 0.34\n",
            "\n",
            "Classification Report for Class 2:\n",
            "Precision: 1.00\n",
            "Recall: 0.45\n",
            "F1-score: 0.62\n",
            "\n",
            "Classification Report for Class 3:\n",
            "Precision: 1.00\n",
            "Recall: 0.21\n",
            "F1-score: 0.34\n",
            "\n",
            "Classification Report for Class 4:\n",
            "Precision: 1.00\n",
            "Recall: 0.48\n",
            "F1-score: 0.65\n",
            "\n",
            "Classification Report for Class 5:\n",
            "Precision: 1.00\n",
            "Recall: 0.21\n",
            "F1-score: 0.35\n",
            "\n",
            "Classification Report for Class 6:\n",
            "Precision: 1.00\n",
            "Recall: 0.26\n",
            "F1-score: 0.41\n",
            "\n",
            "Classification Report for Class 7:\n",
            "Precision: 1.00\n",
            "Recall: 0.18\n",
            "F1-score: 0.31\n",
            "\n",
            "Classification Report for Class 8:\n",
            "Precision: 1.00\n",
            "Recall: 0.66\n",
            "F1-score: 0.79\n",
            "\n",
            "Classification Report for Class 9:\n",
            "Precision: 1.00\n",
            "Recall: 0.12\n",
            "F1-score: 0.22\n"
          ]
        },
        {
          "output_type": "stream",
          "name": "stderr",
          "text": [
            "/usr/local/lib/python3.10/dist-packages/sklearn/metrics/_classification.py:1344: UndefinedMetricWarning: Recall and F-score are ill-defined and being set to 0.0 in labels with no true samples. Use `zero_division` parameter to control this behavior.\n",
            "  _warn_prf(average, modifier, msg_start, len(result))\n",
            "/usr/local/lib/python3.10/dist-packages/sklearn/metrics/_classification.py:1344: UndefinedMetricWarning: Recall and F-score are ill-defined and being set to 0.0 in labels with no true samples. Use `zero_division` parameter to control this behavior.\n",
            "  _warn_prf(average, modifier, msg_start, len(result))\n",
            "/usr/local/lib/python3.10/dist-packages/sklearn/metrics/_classification.py:1344: UndefinedMetricWarning: Recall and F-score are ill-defined and being set to 0.0 in labels with no true samples. Use `zero_division` parameter to control this behavior.\n",
            "  _warn_prf(average, modifier, msg_start, len(result))\n",
            "/usr/local/lib/python3.10/dist-packages/sklearn/metrics/_classification.py:1344: UndefinedMetricWarning: Recall and F-score are ill-defined and being set to 0.0 in labels with no true samples. Use `zero_division` parameter to control this behavior.\n",
            "  _warn_prf(average, modifier, msg_start, len(result))\n",
            "/usr/local/lib/python3.10/dist-packages/sklearn/metrics/_classification.py:1344: UndefinedMetricWarning: Recall and F-score are ill-defined and being set to 0.0 in labels with no true samples. Use `zero_division` parameter to control this behavior.\n",
            "  _warn_prf(average, modifier, msg_start, len(result))\n",
            "/usr/local/lib/python3.10/dist-packages/sklearn/metrics/_classification.py:1344: UndefinedMetricWarning: Recall and F-score are ill-defined and being set to 0.0 in labels with no true samples. Use `zero_division` parameter to control this behavior.\n",
            "  _warn_prf(average, modifier, msg_start, len(result))\n",
            "/usr/local/lib/python3.10/dist-packages/sklearn/metrics/_classification.py:1344: UndefinedMetricWarning: Recall and F-score are ill-defined and being set to 0.0 in labels with no true samples. Use `zero_division` parameter to control this behavior.\n",
            "  _warn_prf(average, modifier, msg_start, len(result))\n",
            "/usr/local/lib/python3.10/dist-packages/sklearn/metrics/_classification.py:1344: UndefinedMetricWarning: Recall and F-score are ill-defined and being set to 0.0 in labels with no true samples. Use `zero_division` parameter to control this behavior.\n",
            "  _warn_prf(average, modifier, msg_start, len(result))\n",
            "/usr/local/lib/python3.10/dist-packages/sklearn/metrics/_classification.py:1344: UndefinedMetricWarning: Recall and F-score are ill-defined and being set to 0.0 in labels with no true samples. Use `zero_division` parameter to control this behavior.\n",
            "  _warn_prf(average, modifier, msg_start, len(result))\n",
            "/usr/local/lib/python3.10/dist-packages/sklearn/metrics/_classification.py:1344: UndefinedMetricWarning: Recall and F-score are ill-defined and being set to 0.0 in labels with no true samples. Use `zero_division` parameter to control this behavior.\n",
            "  _warn_prf(average, modifier, msg_start, len(result))\n",
            "/usr/local/lib/python3.10/dist-packages/sklearn/metrics/_classification.py:1344: UndefinedMetricWarning: Recall and F-score are ill-defined and being set to 0.0 in labels with no true samples. Use `zero_division` parameter to control this behavior.\n",
            "  _warn_prf(average, modifier, msg_start, len(result))\n",
            "/usr/local/lib/python3.10/dist-packages/sklearn/metrics/_classification.py:1344: UndefinedMetricWarning: Recall and F-score are ill-defined and being set to 0.0 in labels with no true samples. Use `zero_division` parameter to control this behavior.\n",
            "  _warn_prf(average, modifier, msg_start, len(result))\n",
            "/usr/local/lib/python3.10/dist-packages/sklearn/metrics/_classification.py:1344: UndefinedMetricWarning: Recall and F-score are ill-defined and being set to 0.0 in labels with no true samples. Use `zero_division` parameter to control this behavior.\n",
            "  _warn_prf(average, modifier, msg_start, len(result))\n",
            "/usr/local/lib/python3.10/dist-packages/sklearn/metrics/_classification.py:1344: UndefinedMetricWarning: Recall and F-score are ill-defined and being set to 0.0 in labels with no true samples. Use `zero_division` parameter to control this behavior.\n",
            "  _warn_prf(average, modifier, msg_start, len(result))\n",
            "/usr/local/lib/python3.10/dist-packages/sklearn/metrics/_classification.py:1344: UndefinedMetricWarning: Recall and F-score are ill-defined and being set to 0.0 in labels with no true samples. Use `zero_division` parameter to control this behavior.\n",
            "  _warn_prf(average, modifier, msg_start, len(result))\n",
            "/usr/local/lib/python3.10/dist-packages/sklearn/metrics/_classification.py:1344: UndefinedMetricWarning: Recall and F-score are ill-defined and being set to 0.0 in labels with no true samples. Use `zero_division` parameter to control this behavior.\n",
            "  _warn_prf(average, modifier, msg_start, len(result))\n",
            "/usr/local/lib/python3.10/dist-packages/sklearn/metrics/_classification.py:1344: UndefinedMetricWarning: Recall and F-score are ill-defined and being set to 0.0 in labels with no true samples. Use `zero_division` parameter to control this behavior.\n",
            "  _warn_prf(average, modifier, msg_start, len(result))\n",
            "/usr/local/lib/python3.10/dist-packages/sklearn/metrics/_classification.py:1344: UndefinedMetricWarning: Recall and F-score are ill-defined and being set to 0.0 in labels with no true samples. Use `zero_division` parameter to control this behavior.\n",
            "  _warn_prf(average, modifier, msg_start, len(result))\n",
            "/usr/local/lib/python3.10/dist-packages/sklearn/metrics/_classification.py:1344: UndefinedMetricWarning: Recall and F-score are ill-defined and being set to 0.0 in labels with no true samples. Use `zero_division` parameter to control this behavior.\n",
            "  _warn_prf(average, modifier, msg_start, len(result))\n",
            "/usr/local/lib/python3.10/dist-packages/sklearn/metrics/_classification.py:1344: UndefinedMetricWarning: Recall and F-score are ill-defined and being set to 0.0 in labels with no true samples. Use `zero_division` parameter to control this behavior.\n",
            "  _warn_prf(average, modifier, msg_start, len(result))\n",
            "/usr/local/lib/python3.10/dist-packages/sklearn/metrics/_classification.py:1344: UndefinedMetricWarning: Recall and F-score are ill-defined and being set to 0.0 in labels with no true samples. Use `zero_division` parameter to control this behavior.\n",
            "  _warn_prf(average, modifier, msg_start, len(result))\n",
            "/usr/local/lib/python3.10/dist-packages/sklearn/metrics/_classification.py:1344: UndefinedMetricWarning: Recall and F-score are ill-defined and being set to 0.0 in labels with no true samples. Use `zero_division` parameter to control this behavior.\n",
            "  _warn_prf(average, modifier, msg_start, len(result))\n",
            "/usr/local/lib/python3.10/dist-packages/sklearn/metrics/_classification.py:1344: UndefinedMetricWarning: Recall and F-score are ill-defined and being set to 0.0 in labels with no true samples. Use `zero_division` parameter to control this behavior.\n",
            "  _warn_prf(average, modifier, msg_start, len(result))\n",
            "/usr/local/lib/python3.10/dist-packages/sklearn/metrics/_classification.py:1344: UndefinedMetricWarning: Recall and F-score are ill-defined and being set to 0.0 in labels with no true samples. Use `zero_division` parameter to control this behavior.\n",
            "  _warn_prf(average, modifier, msg_start, len(result))\n",
            "/usr/local/lib/python3.10/dist-packages/sklearn/metrics/_classification.py:1344: UndefinedMetricWarning: Recall and F-score are ill-defined and being set to 0.0 in labels with no true samples. Use `zero_division` parameter to control this behavior.\n",
            "  _warn_prf(average, modifier, msg_start, len(result))\n",
            "/usr/local/lib/python3.10/dist-packages/sklearn/metrics/_classification.py:1344: UndefinedMetricWarning: Recall and F-score are ill-defined and being set to 0.0 in labels with no true samples. Use `zero_division` parameter to control this behavior.\n",
            "  _warn_prf(average, modifier, msg_start, len(result))\n",
            "/usr/local/lib/python3.10/dist-packages/sklearn/metrics/_classification.py:1344: UndefinedMetricWarning: Recall and F-score are ill-defined and being set to 0.0 in labels with no true samples. Use `zero_division` parameter to control this behavior.\n",
            "  _warn_prf(average, modifier, msg_start, len(result))\n",
            "/usr/local/lib/python3.10/dist-packages/sklearn/metrics/_classification.py:1344: UndefinedMetricWarning: Recall and F-score are ill-defined and being set to 0.0 in labels with no true samples. Use `zero_division` parameter to control this behavior.\n",
            "  _warn_prf(average, modifier, msg_start, len(result))\n",
            "/usr/local/lib/python3.10/dist-packages/sklearn/metrics/_classification.py:1344: UndefinedMetricWarning: Recall and F-score are ill-defined and being set to 0.0 in labels with no true samples. Use `zero_division` parameter to control this behavior.\n",
            "  _warn_prf(average, modifier, msg_start, len(result))\n",
            "/usr/local/lib/python3.10/dist-packages/sklearn/metrics/_classification.py:1344: UndefinedMetricWarning: Recall and F-score are ill-defined and being set to 0.0 in labels with no true samples. Use `zero_division` parameter to control this behavior.\n",
            "  _warn_prf(average, modifier, msg_start, len(result))\n"
          ]
        }
      ]
    },
    {
      "cell_type": "markdown",
      "source": [
        "**Class Imbalance**: Some classes have very low recall values, indicating that the model struggles to correctly classify instances of those classes. For example, classes 1, 3, 5, 7, and 9 have low recall values, suggesting potential class imbalance issues where these classes are underrepresented in the training data.\n",
        "\n",
        "The imbalanced distribution of classes can make it challenging for the model to learn from the minority classes, leading to poor performance on those classes"
      ],
      "metadata": {
        "id": "MOG5CrXnVrbV"
      }
    },
    {
      "cell_type": "markdown",
      "source": [
        "**PERFORMING KNN MODEL ON GRAYSCALE IMAGES**"
      ],
      "metadata": {
        "id": "ofyGJDX4a3yw"
      }
    },
    {
      "cell_type": "code",
      "source": [
        "import numpy as np\n",
        "from keras.datasets import cifar10\n",
        "\n",
        "# Load CIFAR-10 dataset\n",
        "(X_train, y_train), (X_test, y_test) = cifar10.load_data()\n",
        "\n",
        "# Function to convert RGB to grayscale\n",
        "def rgb2gray(rgb_images):\n",
        "    return np.dot(rgb_images[..., :3], [0.2989, 0.5870, 0.1140])\n",
        "\n",
        "# Convert images to grayscale\n",
        "X_train_gray = rgb2gray(X_train)\n",
        "X_test_gray = rgb2gray(X_test)\n",
        "\n",
        "# Reshape grayscale images to flatten them\n",
        "X_train_gray = X_train_gray.reshape(X_train_gray.shape[0], -1)\n",
        "X_test_gray = X_test_gray.reshape(X_test_gray.shape[0], -1)\n",
        "\n",
        "# Convert pixel values to float and scale them to the range [0, 1]\n",
        "X_train_gray = X_train_gray.astype('float32') / 255.0\n",
        "X_test_gray = X_test_gray.astype('float32') / 255.0\n",
        "\n",
        "# Flatten the labels\n",
        "y_train = y_train.ravel()\n",
        "y_test = y_test.ravel()\n"
      ],
      "metadata": {
        "id": "XEOL346Ya-xx"
      },
      "execution_count": 3,
      "outputs": []
    },
    {
      "cell_type": "code",
      "source": [
        "from sklearn.metrics import confusion_matrix, classification_report\n",
        "from sklearn.model_selection import cross_val_score\n",
        "# No validation set\n",
        "knn_no_val = KNeighborsClassifier()\n",
        "knn_no_val.fit(X_train_gray, y_train)\n",
        "y_pred_no_val = knn_no_val.predict(X_test_gray)\n",
        "print(\"No Validation Set:\")\n",
        "print(\"Confusion Matrix:\\n\", confusion_matrix(y_test, y_pred_no_val))\n",
        "print(\"Classification Report:\\n\", classification_report(y_test, y_pred_no_val))\n",
        "\n",
        "# 1 validation set with 20% of 80%\n",
        "X_train_split, X_val_split, y_train_split, y_val_split = train_test_split(\n",
        "    X_train_gray, y_train, test_size=0.2, random_state=42)\n",
        "knn_1_val = KNeighborsClassifier()\n",
        "knn_1_val.fit(X_train_split, y_train_split)\n",
        "y_pred_1_val = knn_1_val.predict(X_test_gray)\n",
        "print(\"1 Validation Set with 20% of 80%:\")\n",
        "print(\"Confusion Matrix:\\n\", confusion_matrix(y_test, y_pred_1_val))\n",
        "print(\"Classification Report:\\n\", classification_report(y_test, y_pred_1_val))\n",
        "\n",
        "# 3-fold cross-validation\n",
        "knn_3_fold = KNeighborsClassifier()\n",
        "scores_3_fold = cross_val_score(knn_3_fold, X_train_gray, y_train, cv=3)\n",
        "print(\"3-Fold Cross Validation Scores:\", scores_3_fold)\n",
        "\n",
        "# 5-fold cross-validation\n",
        "knn_5_fold = KNeighborsClassifier()\n",
        "scores_5_fold = cross_val_score(knn_5_fold, X_train_gray, y_train, cv=5)\n",
        "print(\"5-Fold Cross Validation Scores:\", scores_5_fold)\n",
        "\n",
        "# 10-fold cross-validation\n",
        "knn_10_fold = KNeighborsClassifier()\n",
        "scores_10_fold = cross_val_score(knn_10_fold, X_train_gray, y_train, cv=10)\n",
        "print(\"10-Fold Cross Validation Scores:\", scores_10_fold)"
      ],
      "metadata": {
        "colab": {
          "base_uri": "https://localhost:8080/"
        },
        "id": "sMHf9GdEbfE-",
        "outputId": "79540647-2ff0-498b-b854-c5215f1b4868"
      },
      "execution_count": 11,
      "outputs": [
        {
          "output_type": "stream",
          "name": "stdout",
          "text": [
            "No Validation Set:\n",
            "Confusion Matrix:\n",
            " [[469   8 124  13  90   7  27   5 253   4]\n",
            " [170 193  84  49 148  19  61  14 239  23]\n",
            " [244   3 373  41 183  29  47   4  73   3]\n",
            " [162  11 191 190 174  79  97  13  76   7]\n",
            " [226   5 205  33 382  20  33  12  84   0]\n",
            " [144   8 201 129 177 190  67  16  63   5]\n",
            " [140   3 207  84 225  54 210   2  74   1]\n",
            " [182  11 126  53 221  40  42 190 127   8]\n",
            " [170  14  54  36  78  16  17   8 601   6]\n",
            " [188  70  97  54 119  15  54  21 253 129]]\n",
            "Classification Report:\n",
            "               precision    recall  f1-score   support\n",
            "\n",
            "           0       0.22      0.47      0.30      1000\n",
            "           1       0.59      0.19      0.29      1000\n",
            "           2       0.22      0.37      0.28      1000\n",
            "           3       0.28      0.19      0.23      1000\n",
            "           4       0.21      0.38      0.27      1000\n",
            "           5       0.41      0.19      0.26      1000\n",
            "           6       0.32      0.21      0.25      1000\n",
            "           7       0.67      0.19      0.30      1000\n",
            "           8       0.33      0.60      0.42      1000\n",
            "           9       0.69      0.13      0.22      1000\n",
            "\n",
            "    accuracy                           0.29     10000\n",
            "   macro avg       0.39      0.29      0.28     10000\n",
            "weighted avg       0.39      0.29      0.28     10000\n",
            "\n",
            "1 Validation Set with 20% of 80%:\n",
            "Confusion Matrix:\n",
            " [[456   8 130  16  91  11  35   3 246   4]\n",
            " [177 184  80  44 150  26  68  12 242  17]\n",
            " [231   2 388  37 166  38  49   5  83   1]\n",
            " [161  19 201 163 183  78 101  13  72   9]\n",
            " [219   6 227  31 378  18  32  11  78   0]\n",
            " [144   6 208 135 165 181  66  17  74   4]\n",
            " [129   5 208  77 238  47 206   2  86   2]\n",
            " [193   9 137  58 214  51  40 166 124   8]\n",
            " [173  14  63  41  71  14  25   7 586   6]\n",
            " [204  73  93  50 133  21  53  23 242 108]]\n",
            "Classification Report:\n",
            "               precision    recall  f1-score   support\n",
            "\n",
            "           0       0.22      0.46      0.30      1000\n",
            "           1       0.56      0.18      0.28      1000\n",
            "           2       0.22      0.39      0.28      1000\n",
            "           3       0.25      0.16      0.20      1000\n",
            "           4       0.21      0.38      0.27      1000\n",
            "           5       0.37      0.18      0.24      1000\n",
            "           6       0.31      0.21      0.25      1000\n",
            "           7       0.64      0.17      0.26      1000\n",
            "           8       0.32      0.59      0.41      1000\n",
            "           9       0.68      0.11      0.19      1000\n",
            "\n",
            "    accuracy                           0.28     10000\n",
            "   macro avg       0.38      0.28      0.27     10000\n",
            "weighted avg       0.38      0.28      0.27     10000\n",
            "\n",
            "3-Fold Cross Validation Scores: [0.27569449 0.27797444 0.27097084]\n",
            "5-Fold Cross Validation Scores: [0.2802 0.2773 0.2857 0.2717 0.2744]\n",
            "10-Fold Cross Validation Scores: [0.2858 0.2866 0.2768 0.2784 0.2866 0.2894 0.271  0.28   0.2774 0.2796]\n"
          ]
        }
      ]
    },
    {
      "cell_type": "code",
      "source": [
        "import numpy as np\n",
        "from sklearn.neighbors import KNeighborsClassifier\n",
        "from sklearn.model_selection import LeaveOneOut\n",
        "from sklearn.metrics import confusion_matrix, classification_report\n",
        "from keras.datasets import cifar10\n",
        "\n",
        "# Load CIFAR-10 dataset\n",
        "(X_train, y_train), (_, _) = cifar10.load_data()\n",
        "\n",
        "# Function to convert RGB to grayscale\n",
        "def rgb2gray(rgb_images):\n",
        "    return np.dot(rgb_images[..., :3], [0.2989, 0.5870, 0.1140])\n",
        "\n",
        "# Convert images to grayscale\n",
        "X_train_gray = rgb2gray(X_train)\n",
        "\n",
        "# Reshape grayscale images to flatten them\n",
        "X_train_gray = X_train_gray.reshape(X_train_gray.shape[0], -1)\n",
        "\n",
        "# Convert pixel values to float and scale them to the range [0, 1]\n",
        "X_train_gray = X_train_gray.astype('float32') / 255.0\n",
        "\n",
        "# Flatten the labels\n",
        "y_train = y_train.ravel()\n",
        "\n",
        "# Select first 100 data points\n",
        "X_train_100 = X_train_gray[:100]\n",
        "y_train_100 = y_train[:100]\n",
        "\n",
        "# Initialize KNN classifier\n",
        "knn = KNeighborsClassifier()\n",
        "\n",
        "# Initialize Leave-One-Out cross-validation\n",
        "loo = LeaveOneOut()\n",
        "\n",
        "# Lists to store true and predicted labels\n",
        "true_labels = []\n",
        "predicted_labels = []\n",
        "\n",
        "# Perform Leave-One-Out cross-validation\n",
        "for train_index, test_index in loo.split(X_train_100):\n",
        "    X_train_loo, X_test_loo = X_train_100[train_index], X_train_100[test_index]\n",
        "    y_train_loo, y_test_loo = y_train_100[train_index], y_train_100[test_index]\n",
        "\n",
        "    # Train KNN model\n",
        "    knn.fit(X_train_loo, y_train_loo)\n",
        "\n",
        "    # Predict on test data\n",
        "    y_pred_loo = knn.predict(X_test_loo)\n",
        "\n",
        "    # Append true and predicted labels\n",
        "    true_labels.append(y_test_loo[0])\n",
        "    predicted_labels.append(y_pred_loo[0])\n",
        "\n",
        "# Calculate and print confusion matrix and classification report\n",
        "print(\"Confusion Matrix:\\n\", confusion_matrix(true_labels, predicted_labels))\n",
        "print(\"\\nClassification Report:\\n\", classification_report(true_labels, predicted_labels))\n",
        "\n"
      ],
      "metadata": {
        "colab": {
          "base_uri": "https://localhost:8080/"
        },
        "id": "ZcaMaB8Oexew",
        "outputId": "324a1fae-10be-45e6-d9c8-12724ee484ed"
      },
      "execution_count": 3,
      "outputs": [
        {
          "output_type": "stream",
          "name": "stdout",
          "text": [
            "Confusion Matrix:\n",
            " [[0 0 2 0 4 0 0 0 0 0]\n",
            " [4 1 5 2 4 0 0 0 0 0]\n",
            " [1 0 5 0 7 0 0 0 0 0]\n",
            " [2 0 5 0 6 0 0 0 0 0]\n",
            " [1 1 4 3 2 0 0 0 0 0]\n",
            " [0 0 1 4 1 0 0 0 1 0]\n",
            " [0 1 2 1 2 0 0 0 0 1]\n",
            " [1 0 3 0 7 0 0 0 0 0]\n",
            " [0 0 0 0 4 0 0 0 0 0]\n",
            " [0 0 2 0 6 0 0 0 0 4]]\n",
            "\n",
            "Classification Report:\n",
            "               precision    recall  f1-score   support\n",
            "\n",
            "           0       0.00      0.00      0.00         6\n",
            "           1       0.33      0.06      0.11        16\n",
            "           2       0.17      0.38      0.24        13\n",
            "           3       0.00      0.00      0.00        13\n",
            "           4       0.05      0.18      0.07        11\n",
            "           5       0.00      0.00      0.00         7\n",
            "           6       0.00      0.00      0.00         7\n",
            "           7       0.00      0.00      0.00        11\n",
            "           8       0.00      0.00      0.00         4\n",
            "           9       0.80      0.33      0.47        12\n",
            "\n",
            "    accuracy                           0.12       100\n",
            "   macro avg       0.14      0.10      0.09       100\n",
            "weighted avg       0.18      0.12      0.11       100\n",
            "\n"
          ]
        },
        {
          "output_type": "stream",
          "name": "stderr",
          "text": [
            "/usr/local/lib/python3.10/dist-packages/sklearn/metrics/_classification.py:1344: UndefinedMetricWarning: Precision and F-score are ill-defined and being set to 0.0 in labels with no predicted samples. Use `zero_division` parameter to control this behavior.\n",
            "  _warn_prf(average, modifier, msg_start, len(result))\n",
            "/usr/local/lib/python3.10/dist-packages/sklearn/metrics/_classification.py:1344: UndefinedMetricWarning: Precision and F-score are ill-defined and being set to 0.0 in labels with no predicted samples. Use `zero_division` parameter to control this behavior.\n",
            "  _warn_prf(average, modifier, msg_start, len(result))\n",
            "/usr/local/lib/python3.10/dist-packages/sklearn/metrics/_classification.py:1344: UndefinedMetricWarning: Precision and F-score are ill-defined and being set to 0.0 in labels with no predicted samples. Use `zero_division` parameter to control this behavior.\n",
            "  _warn_prf(average, modifier, msg_start, len(result))\n"
          ]
        }
      ]
    },
    {
      "cell_type": "code",
      "source": [
        "from sklearn.metrics import confusion_matrix, classification_report\n",
        "unique_classes = np.unique(y_test)\n",
        "\n",
        "for cls in unique_classes:\n",
        "    idx = np.where(y_test == cls)\n",
        "    cls_name = str(cls)\n",
        "\n",
        "    # Classification report for each class\n",
        "    print(f\"\\nClassification Report for Class {cls_name}:\")\n",
        "\n",
        "    # Compute metrics only for the current class\n",
        "    report = classification_report(y_test[idx], y_test_pred[idx], output_dict=True)\n",
        "\n",
        "    # Print precision, recall, and F1-score for the current class\n",
        "    print(f\"Precision: {report[cls_name]['precision']:.2f}\")\n",
        "    print(f\"Recall: {report[cls_name]['recall']:.2f}\")\n",
        "    print(f\"F1-score: {report[cls_name]['f1-score']:.2f}\")"
      ],
      "metadata": {
        "colab": {
          "base_uri": "https://localhost:8080/"
        },
        "id": "aW09SKf_kU7G",
        "outputId": "6293e57d-6d25-450b-f660-84c182f66063"
      },
      "execution_count": 22,
      "outputs": [
        {
          "output_type": "stream",
          "name": "stdout",
          "text": [
            "\n",
            "Classification Report for Class 0:\n",
            "Precision: 1.00\n",
            "Recall: 0.52\n",
            "F1-score: 0.69\n",
            "\n",
            "Classification Report for Class 1:\n",
            "Precision: 1.00\n",
            "Recall: 0.19\n",
            "F1-score: 0.32\n",
            "\n",
            "Classification Report for Class 2:\n",
            "Precision: 1.00\n",
            "Recall: 0.43\n",
            "F1-score: 0.60\n",
            "\n",
            "Classification Report for Class 3:\n",
            "Precision: 1.00\n",
            "Recall: 0.20\n",
            "F1-score: 0.33\n",
            "\n",
            "Classification Report for Class 4:\n",
            "Precision: 1.00\n",
            "Recall: 0.50\n",
            "F1-score: 0.66\n",
            "\n",
            "Classification Report for Class 5:\n",
            "Precision: 1.00\n",
            "Recall: 0.21\n",
            "F1-score: 0.35\n",
            "\n",
            "Classification Report for Class 6:\n",
            "Precision: 1.00\n",
            "Recall: 0.26\n",
            "F1-score: 0.41\n",
            "\n",
            "Classification Report for Class 7:\n",
            "Precision: 1.00\n",
            "Recall: 0.18\n",
            "F1-score: 0.30\n",
            "\n",
            "Classification Report for Class 8:\n",
            "Precision: 1.00\n",
            "Recall: 0.64\n",
            "F1-score: 0.78\n",
            "\n",
            "Classification Report for Class 9:\n",
            "Precision: 1.00\n",
            "Recall: 0.12\n",
            "F1-score: 0.22\n"
          ]
        },
        {
          "output_type": "stream",
          "name": "stderr",
          "text": [
            "/usr/local/lib/python3.10/dist-packages/sklearn/metrics/_classification.py:1344: UndefinedMetricWarning: Recall and F-score are ill-defined and being set to 0.0 in labels with no true samples. Use `zero_division` parameter to control this behavior.\n",
            "  _warn_prf(average, modifier, msg_start, len(result))\n",
            "/usr/local/lib/python3.10/dist-packages/sklearn/metrics/_classification.py:1344: UndefinedMetricWarning: Recall and F-score are ill-defined and being set to 0.0 in labels with no true samples. Use `zero_division` parameter to control this behavior.\n",
            "  _warn_prf(average, modifier, msg_start, len(result))\n",
            "/usr/local/lib/python3.10/dist-packages/sklearn/metrics/_classification.py:1344: UndefinedMetricWarning: Recall and F-score are ill-defined and being set to 0.0 in labels with no true samples. Use `zero_division` parameter to control this behavior.\n",
            "  _warn_prf(average, modifier, msg_start, len(result))\n",
            "/usr/local/lib/python3.10/dist-packages/sklearn/metrics/_classification.py:1344: UndefinedMetricWarning: Recall and F-score are ill-defined and being set to 0.0 in labels with no true samples. Use `zero_division` parameter to control this behavior.\n",
            "  _warn_prf(average, modifier, msg_start, len(result))\n",
            "/usr/local/lib/python3.10/dist-packages/sklearn/metrics/_classification.py:1344: UndefinedMetricWarning: Recall and F-score are ill-defined and being set to 0.0 in labels with no true samples. Use `zero_division` parameter to control this behavior.\n",
            "  _warn_prf(average, modifier, msg_start, len(result))\n",
            "/usr/local/lib/python3.10/dist-packages/sklearn/metrics/_classification.py:1344: UndefinedMetricWarning: Recall and F-score are ill-defined and being set to 0.0 in labels with no true samples. Use `zero_division` parameter to control this behavior.\n",
            "  _warn_prf(average, modifier, msg_start, len(result))\n",
            "/usr/local/lib/python3.10/dist-packages/sklearn/metrics/_classification.py:1344: UndefinedMetricWarning: Recall and F-score are ill-defined and being set to 0.0 in labels with no true samples. Use `zero_division` parameter to control this behavior.\n",
            "  _warn_prf(average, modifier, msg_start, len(result))\n",
            "/usr/local/lib/python3.10/dist-packages/sklearn/metrics/_classification.py:1344: UndefinedMetricWarning: Recall and F-score are ill-defined and being set to 0.0 in labels with no true samples. Use `zero_division` parameter to control this behavior.\n",
            "  _warn_prf(average, modifier, msg_start, len(result))\n",
            "/usr/local/lib/python3.10/dist-packages/sklearn/metrics/_classification.py:1344: UndefinedMetricWarning: Recall and F-score are ill-defined and being set to 0.0 in labels with no true samples. Use `zero_division` parameter to control this behavior.\n",
            "  _warn_prf(average, modifier, msg_start, len(result))\n",
            "/usr/local/lib/python3.10/dist-packages/sklearn/metrics/_classification.py:1344: UndefinedMetricWarning: Recall and F-score are ill-defined and being set to 0.0 in labels with no true samples. Use `zero_division` parameter to control this behavior.\n",
            "  _warn_prf(average, modifier, msg_start, len(result))\n",
            "/usr/local/lib/python3.10/dist-packages/sklearn/metrics/_classification.py:1344: UndefinedMetricWarning: Recall and F-score are ill-defined and being set to 0.0 in labels with no true samples. Use `zero_division` parameter to control this behavior.\n",
            "  _warn_prf(average, modifier, msg_start, len(result))\n",
            "/usr/local/lib/python3.10/dist-packages/sklearn/metrics/_classification.py:1344: UndefinedMetricWarning: Recall and F-score are ill-defined and being set to 0.0 in labels with no true samples. Use `zero_division` parameter to control this behavior.\n",
            "  _warn_prf(average, modifier, msg_start, len(result))\n",
            "/usr/local/lib/python3.10/dist-packages/sklearn/metrics/_classification.py:1344: UndefinedMetricWarning: Recall and F-score are ill-defined and being set to 0.0 in labels with no true samples. Use `zero_division` parameter to control this behavior.\n",
            "  _warn_prf(average, modifier, msg_start, len(result))\n",
            "/usr/local/lib/python3.10/dist-packages/sklearn/metrics/_classification.py:1344: UndefinedMetricWarning: Recall and F-score are ill-defined and being set to 0.0 in labels with no true samples. Use `zero_division` parameter to control this behavior.\n",
            "  _warn_prf(average, modifier, msg_start, len(result))\n",
            "/usr/local/lib/python3.10/dist-packages/sklearn/metrics/_classification.py:1344: UndefinedMetricWarning: Recall and F-score are ill-defined and being set to 0.0 in labels with no true samples. Use `zero_division` parameter to control this behavior.\n",
            "  _warn_prf(average, modifier, msg_start, len(result))\n",
            "/usr/local/lib/python3.10/dist-packages/sklearn/metrics/_classification.py:1344: UndefinedMetricWarning: Recall and F-score are ill-defined and being set to 0.0 in labels with no true samples. Use `zero_division` parameter to control this behavior.\n",
            "  _warn_prf(average, modifier, msg_start, len(result))\n",
            "/usr/local/lib/python3.10/dist-packages/sklearn/metrics/_classification.py:1344: UndefinedMetricWarning: Recall and F-score are ill-defined and being set to 0.0 in labels with no true samples. Use `zero_division` parameter to control this behavior.\n",
            "  _warn_prf(average, modifier, msg_start, len(result))\n",
            "/usr/local/lib/python3.10/dist-packages/sklearn/metrics/_classification.py:1344: UndefinedMetricWarning: Recall and F-score are ill-defined and being set to 0.0 in labels with no true samples. Use `zero_division` parameter to control this behavior.\n",
            "  _warn_prf(average, modifier, msg_start, len(result))\n",
            "/usr/local/lib/python3.10/dist-packages/sklearn/metrics/_classification.py:1344: UndefinedMetricWarning: Recall and F-score are ill-defined and being set to 0.0 in labels with no true samples. Use `zero_division` parameter to control this behavior.\n",
            "  _warn_prf(average, modifier, msg_start, len(result))\n",
            "/usr/local/lib/python3.10/dist-packages/sklearn/metrics/_classification.py:1344: UndefinedMetricWarning: Recall and F-score are ill-defined and being set to 0.0 in labels with no true samples. Use `zero_division` parameter to control this behavior.\n",
            "  _warn_prf(average, modifier, msg_start, len(result))\n",
            "/usr/local/lib/python3.10/dist-packages/sklearn/metrics/_classification.py:1344: UndefinedMetricWarning: Recall and F-score are ill-defined and being set to 0.0 in labels with no true samples. Use `zero_division` parameter to control this behavior.\n",
            "  _warn_prf(average, modifier, msg_start, len(result))\n",
            "/usr/local/lib/python3.10/dist-packages/sklearn/metrics/_classification.py:1344: UndefinedMetricWarning: Recall and F-score are ill-defined and being set to 0.0 in labels with no true samples. Use `zero_division` parameter to control this behavior.\n",
            "  _warn_prf(average, modifier, msg_start, len(result))\n",
            "/usr/local/lib/python3.10/dist-packages/sklearn/metrics/_classification.py:1344: UndefinedMetricWarning: Recall and F-score are ill-defined and being set to 0.0 in labels with no true samples. Use `zero_division` parameter to control this behavior.\n",
            "  _warn_prf(average, modifier, msg_start, len(result))\n",
            "/usr/local/lib/python3.10/dist-packages/sklearn/metrics/_classification.py:1344: UndefinedMetricWarning: Recall and F-score are ill-defined and being set to 0.0 in labels with no true samples. Use `zero_division` parameter to control this behavior.\n",
            "  _warn_prf(average, modifier, msg_start, len(result))\n",
            "/usr/local/lib/python3.10/dist-packages/sklearn/metrics/_classification.py:1344: UndefinedMetricWarning: Recall and F-score are ill-defined and being set to 0.0 in labels with no true samples. Use `zero_division` parameter to control this behavior.\n",
            "  _warn_prf(average, modifier, msg_start, len(result))\n",
            "/usr/local/lib/python3.10/dist-packages/sklearn/metrics/_classification.py:1344: UndefinedMetricWarning: Recall and F-score are ill-defined and being set to 0.0 in labels with no true samples. Use `zero_division` parameter to control this behavior.\n",
            "  _warn_prf(average, modifier, msg_start, len(result))\n",
            "/usr/local/lib/python3.10/dist-packages/sklearn/metrics/_classification.py:1344: UndefinedMetricWarning: Recall and F-score are ill-defined and being set to 0.0 in labels with no true samples. Use `zero_division` parameter to control this behavior.\n",
            "  _warn_prf(average, modifier, msg_start, len(result))\n",
            "/usr/local/lib/python3.10/dist-packages/sklearn/metrics/_classification.py:1344: UndefinedMetricWarning: Recall and F-score are ill-defined and being set to 0.0 in labels with no true samples. Use `zero_division` parameter to control this behavior.\n",
            "  _warn_prf(average, modifier, msg_start, len(result))\n",
            "/usr/local/lib/python3.10/dist-packages/sklearn/metrics/_classification.py:1344: UndefinedMetricWarning: Recall and F-score are ill-defined and being set to 0.0 in labels with no true samples. Use `zero_division` parameter to control this behavior.\n",
            "  _warn_prf(average, modifier, msg_start, len(result))\n",
            "/usr/local/lib/python3.10/dist-packages/sklearn/metrics/_classification.py:1344: UndefinedMetricWarning: Recall and F-score are ill-defined and being set to 0.0 in labels with no true samples. Use `zero_division` parameter to control this behavior.\n",
            "  _warn_prf(average, modifier, msg_start, len(result))\n"
          ]
        }
      ]
    },
    {
      "cell_type": "markdown",
      "source": [
        "For each class (from 0 to 9):\n",
        "Precision: Indicates how many of the items identified as positive are actually positive. A score of 1.00 means perfect precision.\n",
        "Recall: Measures the proportion of actual positives that are correctly identified. A score of 1.00 means perfect recall.\n",
        "F1-score: The harmonic mean of precision and recall. It provides a balance between precision and recall, with a score of 1.00 being the best.\n",
        "High Precision Classes:\n",
        "\n",
        "Class 0, 1, 2, 3, 4, 5, 6, 7, 8, 9 all have a precision of 1.00, indicating that when the model predicts these classes, it is almost always correct.\n",
        "Varying Recall Across Classes:\n",
        "\n",
        "Class 8 has the highest recall of 0.64, meaning the model correctly identifies 64% of the actual instances of this class.\n",
        "Class 0 and Class 4 also have relatively higher recalls of 0.52 and 0.50, respectively.\n",
        "Class 9 has the lowest recall of 0.12, indicating that the model struggles to correctly identify instances of this class, capturing only 12% of the actual class instances.\n",
        "F1-Score Insights:\n",
        "\n",
        "Class 8 has the highest F1-score of 0.78, implying a good balance between precision and recall for this class.\n",
        "Class 9 has the lowest F1-score of 0.22, highlighting challenges in both precision and recall for this class.The model demonstrates excellent precision across all classes, indicating a high level of confidence in its predictions. However, there are significant variations in recall and F1-scores across classes. The model excels in classes like 8 but struggles with class 9, indicating potential areas for improvement. Overall, while the model showcases strong predictive capabilities for most classes, optimizing its performance for the classes with lower recall and F1-scores, particularly class 9, could enhance its overall effectiveness."
      ],
      "metadata": {
        "id": "Co3vUftGzchT"
      }
    }
  ]
}